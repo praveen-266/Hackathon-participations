{
 "cells": [
  {
   "cell_type": "code",
   "execution_count": 1,
   "id": "4d9213ac",
   "metadata": {},
   "outputs": [],
   "source": [
    "import numpy as np\n",
    "import pandas as pd\n",
    "import matplotlib.pyplot as plt\n",
    "import seaborn as sns\n",
    "import warnings\n",
    "warnings.filterwarnings('ignore')\n",
    "from sklearn.model_selection import KFold,ShuffleSplit"
   ]
  },
  {
   "cell_type": "code",
   "execution_count": 2,
   "id": "2f536640",
   "metadata": {},
   "outputs": [
    {
     "name": "stdout",
     "output_type": "stream",
     "text": [
      "C:\\Users\\prave\\datasets\\csv files\\competition\\default loan prdiction\n"
     ]
    }
   ],
   "source": [
    "cd\\Users\\prave\\datasets\\csv files\\competition\\default loan prdiction"
   ]
  },
  {
   "cell_type": "code",
   "execution_count": 3,
   "id": "58c3c914",
   "metadata": {},
   "outputs": [],
   "source": [
    "train=pd.read_csv('train_LZV4RXX.csv')\n",
    "test=pd.read_csv(\"test_4zJg83n.csv\")\n",
    "sub=pd.read_csv('sample_submission_tbPU9qQ.csv')"
   ]
  },
  {
   "cell_type": "code",
   "execution_count": 4,
   "id": "4d1ba4d0",
   "metadata": {},
   "outputs": [],
   "source": [
    "# Merging both train and test dataset for EDA\n",
    "train['test_data']=0\n",
    "test['test_data']=1\n",
    "test['loan_default']=np.NaN\n",
    "\n",
    "df=pd.concat([train,test])"
   ]
  },
  {
   "cell_type": "code",
   "execution_count": 5,
   "id": "e9a828e3",
   "metadata": {},
   "outputs": [],
   "source": [
    "df['education'].fillna(df['education'].median(),inplace=True)"
   ]
  },
  {
   "cell_type": "code",
   "execution_count": 6,
   "id": "9cdb63cc",
   "metadata": {},
   "outputs": [],
   "source": [
    "df=pd.get_dummies(data=df,columns=['proof_submitted'],drop_first=True)"
   ]
  },
  {
   "cell_type": "markdown",
   "id": "f405997e",
   "metadata": {},
   "source": [
    "# Feature Selection"
   ]
  },
  {
   "cell_type": "code",
   "execution_count": 7,
   "id": "7d5d0d9d",
   "metadata": {},
   "outputs": [],
   "source": [
    "temp_x_train=df[df['test_data']==0].drop(['loan_default'],axis=1)\n",
    "temp_y_train=df[df['test_data']==0]['loan_default']"
   ]
  },
  {
   "cell_type": "code",
   "execution_count": 9,
   "id": "44e259be",
   "metadata": {},
   "outputs": [],
   "source": [
    "# Splitting the dataset into train set and test set\n",
    "X_train = df[df['test_data']==0].drop(['loan_default'], axis=1)\n",
    "X_train.drop(['test_data'], axis=1, inplace=True)\n",
    "y_train = df[df['test_data']==0]['loan_default']\n",
    "X_test = df[df['test_data']==1].drop(['loan_default'], axis=1)\n",
    "X_test.drop(['test_data'], axis=1, inplace=True)"
   ]
  },
  {
   "cell_type": "code",
   "execution_count": 10,
   "id": "e8911ce2",
   "metadata": {},
   "outputs": [],
   "source": [
    "# Feature Scaling using StandardScalar\n",
    "from sklearn.preprocessing import StandardScaler\n",
    "ss = StandardScaler()\n",
    "X_train = ss.fit_transform(X_train)\n",
    "X_test = ss.transform(X_test)"
   ]
  },
  {
   "cell_type": "code",
   "execution_count": 11,
   "id": "8de2be12",
   "metadata": {},
   "outputs": [],
   "source": [
    "from sklearn.model_selection import cross_val_score,KFold,ShuffleSplit\n",
    "from sklearn.metrics import f1_score"
   ]
  },
  {
   "cell_type": "code",
   "execution_count": 101,
   "id": "fb6d0a47",
   "metadata": {},
   "outputs": [
    {
     "name": "stdout",
     "output_type": "stream",
     "text": [
      "[LightGBM] [Warning] boosting is set=dart, boosting_type=gbdt will be ignored. Current value: boosting=dart\n",
      "[LightGBM] [Warning] num_iterations is set=105, num_iteration=105 will be ignored. Current value: num_iterations=105\n",
      "[LightGBM] [Warning] boosting is set=dart, boosting_type=gbdt will be ignored. Current value: boosting=dart\n",
      "[LightGBM] [Warning] num_iterations is set=105, num_iteration=105 will be ignored. Current value: num_iterations=105\n",
      "[LightGBM] [Warning] boosting is set=dart, boosting_type=gbdt will be ignored. Current value: boosting=dart\n",
      "[LightGBM] [Warning] num_iterations is set=105, num_iteration=105 will be ignored. Current value: num_iterations=105\n",
      "[LightGBM] [Warning] boosting is set=dart, boosting_type=gbdt will be ignored. Current value: boosting=dart\n",
      "[LightGBM] [Warning] num_iterations is set=105, num_iteration=105 will be ignored. Current value: num_iterations=105\n",
      "[LightGBM] [Warning] boosting is set=dart, boosting_type=gbdt will be ignored. Current value: boosting=dart\n",
      "[LightGBM] [Warning] num_iterations is set=105, num_iteration=105 will be ignored. Current value: num_iterations=105\n",
      "--- Average Accuracy: 55.6571% ---\n",
      "F1 score : 0.756745623069001\n"
     ]
    }
   ],
   "source": [
    "from lightgbm import LGBMClassifier\n",
    "\n",
    "lgbm=LGBMClassifier(num_iteration=105,boosting='dart',num_leaves=60,learning_rate=0.15)\n",
    "lgbm.fit(X_train,y_train)\n",
    "cv = cross_val_score(lgbm, X_train, y_train, cv=5, scoring='accuracy')\n",
    "print('--- Average Accuracy: {}% ---'.format(round(cv.mean()*100, 4)))\n",
    "print(\"F1 score : {}\".format(f1_score(lgbm.predict(X_train),y_train)))"
   ]
  },
  {
   "cell_type": "code",
   "execution_count": 103,
   "id": "853f148f",
   "metadata": {},
   "outputs": [],
   "source": [
    "pred=lgbm.predict(X_test)\n",
    "submission=pd.DataFrame({\"loan_id\":test['loan_id'],\"loan_default\":pred})\n",
    "\n",
    "submission.to_csv('lgbm58582_submission.csv',index=False)"
   ]
  },
  {
   "cell_type": "code",
   "execution_count": null,
   "id": "42844485",
   "metadata": {},
   "outputs": [],
   "source": []
  }
 ],
 "metadata": {
  "kernelspec": {
   "display_name": "Python 3 (ipykernel)",
   "language": "python",
   "name": "python3"
  },
  "language_info": {
   "codemirror_mode": {
    "name": "ipython",
    "version": 3
   },
   "file_extension": ".py",
   "mimetype": "text/x-python",
   "name": "python",
   "nbconvert_exporter": "python",
   "pygments_lexer": "ipython3",
   "version": "3.9.5"
  }
 },
 "nbformat": 4,
 "nbformat_minor": 5
}
